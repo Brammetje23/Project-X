{
 "cells": [
  {
   "cell_type": "code",
   "execution_count": 1,
   "metadata": {},
   "outputs": [
    {
     "name": "stdout",
     "output_type": "stream",
     "text": [
      "{'Electrical': 1.0}\n",
      "{'Electrical': 1.0}\n"
     ]
    }
   ],
   "source": [
    "from data_processing import import_and_clean_train, one_hot_encoding, label_encoding\n",
    "\n",
    "\n",
    "train_x_le, test_x_le, train_y_le, test_y_le, label_dict = import_and_clean_train('train', label_encoding)\n",
    "train_x_ohe, test_x_ohe, train_y_ohe, test_y_ohe = import_and_clean_train('train', one_hot_encoding)\n"
   ]
  },
  {
   "cell_type": "code",
   "execution_count": 2,
   "metadata": {},
   "outputs": [
    {
     "name": "stdout",
     "output_type": "stream",
     "text": [
      "Regression ohe\n",
      "test 17490.33246539653\n",
      "train 13262.67416835545\n",
      "\n",
      "\n",
      "Regression le\n",
      "test 18283.651801462194\n",
      "train 20337.352455081633\n",
      "\n",
      "\n",
      "Forest ohe\n",
      "test 16095.337716894988\n",
      "train 6834.471878669269 \n",
      "\n",
      "Forest le\n",
      "test 15785.628767123293\n",
      "train 6667.156428571429\n"
     ]
    }
   ],
   "source": [
    "# Imports\n",
    "import pandas as pd\n",
    "from pandas.api.types import is_string_dtype\n",
    "from pandas.api.types import is_numeric_dtype\n",
    "\n",
    "import numpy as np\n",
    "import matplotlib.pyplot as plt\n",
    "from matplotlib.pyplot import figure\n",
    "\n",
    "from sklearn.linear_model import LinearRegression\n",
    "from sklearn.metrics import r2_score\n",
    "from sklearn.metrics import mean_squared_error\n",
    "from sklearn.ensemble import RandomForestRegressor\n",
    "from sklearn import metrics\n",
    "from sklearn import preprocessing\n",
    "from sklearn.model_selection import train_test_split, GridSearchCV, RandomizedSearchCV\n",
    "import seaborn as sns\n",
    "\n",
    "\n",
    "\n",
    "# Make a model with onehot\n",
    "LinearModel_ohe = LinearRegression()\n",
    "# Fit the data\n",
    "LinearModel_ohe.fit(train_x_ohe, train_y_ohe)\n",
    "# Predict train\n",
    "train_prediction_reg_ohe = LinearModel_ohe.predict(train_x_ohe)\n",
    "# Predict test\n",
    "y_prediction_reg_ohe = LinearModel_ohe.predict(test_x_ohe)\n",
    "\n",
    "# Make a model with label\n",
    "LinearModel_le = LinearRegression()\n",
    "# Fit the data\n",
    "LinearModel_le.fit(train_x_le, train_y_le)\n",
    "# Predict train\n",
    "train_prediction_reg_le = LinearModel_le.predict(train_x_le)\n",
    "# Predict test\n",
    "y_prediction_reg_le = LinearModel_le.predict(test_x_le)\n",
    "\n",
    "\n",
    "\n",
    "# Creating forests with label\n",
    "regr_le = RandomForestRegressor(n_jobs=-1)\n",
    "regr_le.fit(train_x_le, train_y_le)\n",
    "# Getting prediction and calculating accuracy\n",
    "y_prediction_forest_le = regr_le.predict(test_x_le)\n",
    "train_prediction_forest_le = regr_le.predict(train_x_le)\n",
    "\n",
    "# Creating forests with one_hot\n",
    "regr_ohe = RandomForestRegressor(n_jobs=-1)\n",
    "regr_ohe.fit(train_x_ohe, train_y_ohe)\n",
    "# Getting prediction and calculating accuracy\n",
    "y_prediction_forest_ohe = regr_ohe.predict(test_x_ohe)\n",
    "train_prediction_forest_ohe = regr_ohe.predict(train_x_ohe)\n",
    "\n",
    "\n",
    "\n",
    "\n",
    "# Calculate average deviation\n",
    "def dev(y, y_hat):\n",
    "    tot = 0\n",
    "    for i in range(len(y)):\n",
    "        tot += abs(y[i]-y_hat[i])\n",
    "    return tot / len(y)\n",
    "\n",
    "# Regression ohe\n",
    "print('Regression ohe')\n",
    "print('test', dev(test_y_le, y_prediction_reg_ohe))\n",
    "print('train', dev(train_y_le, train_prediction_reg_ohe))\n",
    "print('\\n')\n",
    "\n",
    "# Regression le\n",
    "print('Regression le')\n",
    "print('test', dev(test_y_le, y_prediction_reg_le))\n",
    "print('train', dev(train_y_le, train_prediction_reg_le))\n",
    "print('\\n')\n",
    "\n",
    "\n",
    "# Forest ohe\n",
    "print('Forest ohe')\n",
    "print('test', dev(test_y_le, y_prediction_forest_ohe))\n",
    "print('train', dev(train_y_le, train_prediction_forest_ohe), '\\n')\n",
    "\n",
    "# Forest le\n",
    "print('Forest le')\n",
    "print('test', dev(test_y_le, y_prediction_forest_le))\n",
    "print('train', dev(train_y_le, train_prediction_forest_le))"
   ]
  },
  {
   "cell_type": "code",
   "execution_count": null,
   "metadata": {},
   "outputs": [],
   "source": [
    "random_grid = {'n_estimators': [700, 900, 1100, 1300], 'max_depth': [15, 20, 25, 30, 35], 'max_features': [0.2, 0.3, 0.4, 0.5, 0.6, 'sqrt', 'log2'], 'min_samples_leaf': [1, 2, 3], 'min_samples_split': [1, 2, 3, 4], 'bootstrap': [False]}\n",
    "\n",
    "random_search = RandomizedSearchCV(estimator = regr_le, param_distributions = random_grid, n_jobs=-1, cv=20)\n",
    "random_search.fit(train_x_le, train_y_le)\n",
    "print(random_search.best_params_)"
   ]
  },
  {
   "cell_type": "code",
   "execution_count": null,
   "metadata": {},
   "outputs": [],
   "source": [
    "search_grid = {'n_estimators': [1100, 1300], 'max_depth': [25, 30, 35], 'max_features': [0.3, 0.4, 0.5], 'min_samples_leaf': [1, 2, 3], 'min_samples_split': [1, 2, 3], 'bootstrap': [False]}\n",
    "\n",
    "grid_search = GridSearchCV(estimator= regr_le, param_grid=search_grid, n_jobs=-1)\n",
    "grid_search.fit(train_x_le, train_y_le)\n",
    "print(grid_search.best_params_)"
   ]
  },
  {
   "cell_type": "code",
   "execution_count": 3,
   "metadata": {},
   "outputs": [
    {
     "name": "stdout",
     "output_type": "stream",
     "text": [
      "Forest le random\n",
      "test 14244.027914694894\n",
      "train 0.0013787582280735554 \n",
      "\n"
     ]
    }
   ],
   "source": [
    "y_pred = 0\n",
    "train_pred = 0\n",
    "\n",
    "for i in range(20):\n",
    "    # Creating forests with label and the best parameters\n",
    "    regr_le_random = RandomForestRegressor(max_depth= 35, max_features= 0.3, min_samples_leaf= 1, n_estimators= 1100, min_samples_split=2, bootstrap=False, n_jobs=-1)\n",
    "    regr_le_random.fit(train_x_le, train_y_le)\n",
    "    # Getting prediction and calculating accuracy\n",
    "    y_prediction_forest_le_random = regr_le_random.predict(test_x_le)\n",
    "    train_prediction_forest_le_random = regr_le_random.predict(train_x_le)\n",
    "    \n",
    "    y_pred += dev(test_y_le, y_prediction_forest_le_random) / 20\n",
    "    train_pred += dev(train_y_le, train_prediction_forest_le_random) / 20\n",
    "\n",
    "# Forest le grid\n",
    "print('Forest le random')\n",
    "print('test', y_pred)\n",
    "print('train', train_pred, '\\n')"
   ]
  },
  {
   "cell_type": "code",
   "execution_count": 4,
   "metadata": {},
   "outputs": [
    {
     "name": "stdout",
     "output_type": "stream",
     "text": [
      "Forest ohe random\n",
      "test 14203.387599299522\n",
      "train 20.882596107664526 \n",
      "\n"
     ]
    }
   ],
   "source": [
    "y_pred = 0\n",
    "train_pred = 0\n",
    "\n",
    "for i in range(20):\n",
    "    # Creating forests with label and the best parameters\n",
    "    regr_le_random = RandomForestRegressor(max_depth= 20, max_features= 0.3, min_samples_leaf= 1, n_estimators= 1100, min_samples_split=2, bootstrap=False, n_jobs=-1)\n",
    "    regr_le_random.fit(train_x_ohe, train_y_ohe)\n",
    "    # Getting prediction and calculating accuracy\n",
    "    y_prediction_forest_le_random = regr_le_random.predict(test_x_ohe)\n",
    "    train_prediction_forest_le_random = regr_le_random.predict(train_x_ohe)\n",
    "    \n",
    "    y_pred += dev(test_y_ohe, y_prediction_forest_le_random) / 20\n",
    "    train_pred += dev(train_y_ohe, train_prediction_forest_le_random) / 20\n",
    "\n",
    "# Forest le grid\n",
    "print('Forest ohe random')\n",
    "print('test', y_pred)\n",
    "print('train', train_pred, '\\n')"
   ]
  }
 ],
 "metadata": {
  "interpreter": {
   "hash": "b3ba2566441a7c06988d0923437866b63cedc61552a5af99d1f4fb67d367b25f"
  },
  "kernelspec": {
   "display_name": "Python 3 (ipykernel)",
   "language": "python",
   "name": "python3"
  },
  "language_info": {
   "codemirror_mode": {
    "name": "ipython",
    "version": 3
   },
   "file_extension": ".py",
   "mimetype": "text/x-python",
   "name": "python",
   "nbconvert_exporter": "python",
   "pygments_lexer": "ipython3",
   "version": "3.9.7"
  }
 },
 "nbformat": 4,
 "nbformat_minor": 2
}
