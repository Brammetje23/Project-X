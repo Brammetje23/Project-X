{
 "cells": [
  {
   "cell_type": "code",
   "execution_count": 1,
   "metadata": {},
   "outputs": [],
   "source": [
    "from data_processing import import_and_clean_train, one_hot_encoding, label_encoding\n",
    "\n",
    "\n",
    "train_x_le, test_x_le, train_y_le, test_y_le, label_dict = import_and_clean_train('train', label_encoding)\n",
    "train_x_ohe, test_x_ohe, train_y_ohe, test_y_ohe = import_and_clean_train('train', one_hot_encoding)"
   ]
  },
  {
   "cell_type": "code",
   "execution_count": 2,
   "metadata": {},
   "outputs": [
    {
     "name": "stdout",
     "output_type": "stream",
     "text": [
      "Regression ohe\n",
      "test 17272.481580170057\n",
      "train 13475.80014016233\n",
      "\n",
      "\n",
      "Regression le\n",
      "test 18503.484647035617\n",
      "train 20342.48008650548\n",
      "\n",
      "\n",
      "Forest ohe\n",
      "test 15736.17979452055\n",
      "train 6826.335264187867 \n",
      "\n",
      "Forest le\n",
      "test 15860.018150684942\n",
      "train 6644.4318003913895\n"
     ]
    }
   ],
   "source": [
    "# Imports\n",
    "import pandas as pd\n",
    "from pandas.api.types import is_string_dtype\n",
    "from pandas.api.types import is_numeric_dtype\n",
    "\n",
    "import numpy as np\n",
    "import matplotlib.pyplot as plt\n",
    "from matplotlib.pyplot import figure\n",
    "\n",
    "from sklearn.linear_model import LinearRegression\n",
    "from sklearn.metrics import r2_score\n",
    "from sklearn.metrics import mean_squared_error\n",
    "from sklearn.ensemble import RandomForestRegressor\n",
    "from sklearn import metrics\n",
    "from sklearn import preprocessing\n",
    "from sklearn.model_selection import train_test_split\n",
    "import seaborn as sns\n",
    "\n",
    "\n",
    "\n",
    "# Make a model with onehot\n",
    "LinearModel_ohe = LinearRegression()\n",
    "# Fit the data\n",
    "LinearModel_ohe.fit(train_x_ohe, train_y_ohe)\n",
    "# Predict train\n",
    "train_prediction_reg_ohe = LinearModel_ohe.predict(train_x_ohe)\n",
    "# Predict test\n",
    "y_prediction_reg_ohe = LinearModel_ohe.predict(test_x_ohe)\n",
    "\n",
    "# Make a model with label\n",
    "LinearModel_le = LinearRegression()\n",
    "# Fit the data\n",
    "LinearModel_le.fit(train_x_le, train_y_le)\n",
    "# Predict train\n",
    "train_prediction_reg_le = LinearModel_le.predict(train_x_le)\n",
    "# Predict test\n",
    "y_prediction_reg_le = LinearModel_le.predict(test_x_le)\n",
    "\n",
    "\n",
    "\n",
    "# Creating forests with label\n",
    "regr_le = RandomForestRegressor()\n",
    "regr_le.fit(train_x_le, train_y_le)\n",
    "# Getting prediction and calculating accuracy\n",
    "y_prediction_forest_le = regr_le.predict(test_x_le)\n",
    "train_prediction_forest_le = regr_le.predict(train_x_le)\n",
    "\n",
    "# Creating forests with one_hot\n",
    "regr_ohe = RandomForestRegressor()\n",
    "regr_ohe.fit(train_x_ohe, train_y_ohe)\n",
    "# Getting prediction and calculating accuracy\n",
    "y_prediction_forest_ohe = regr_ohe.predict(test_x_ohe)\n",
    "train_prediction_forest_ohe = regr_ohe.predict(train_x_ohe)\n",
    "\n",
    "\n",
    "\n",
    "\n",
    "# Calculate average deviation\n",
    "def dev(y, y_hat):\n",
    "    tot = 0\n",
    "    for i in range(len(y)):\n",
    "        tot += abs(y[i]-y_hat[i])\n",
    "    return tot / len(y)\n",
    "\n",
    "# Regression ohe\n",
    "print('Regression ohe')\n",
    "print('test', dev(test_y_le, y_prediction_reg_ohe))\n",
    "print('train', dev(train_y_le, train_prediction_reg_ohe))\n",
    "print('\\n')\n",
    "\n",
    "# Regression le\n",
    "print('Regression le')\n",
    "print('test', dev(test_y_le, y_prediction_reg_le))\n",
    "print('train', dev(train_y_le, train_prediction_reg_le))\n",
    "print('\\n')\n",
    "\n",
    "\n",
    "# Forest ohe\n",
    "print('Forest ohe')\n",
    "print('test', dev(test_y_le, y_prediction_forest_ohe))\n",
    "print('train', dev(train_y_le, train_prediction_forest_ohe), '\\n')\n",
    "\n",
    "# Forest le\n",
    "print('Forest le')\n",
    "print('test', dev(test_y_le, y_prediction_forest_le))\n",
    "print('train', dev(train_y_le, train_prediction_forest_le))"
   ]
  },
  {
   "cell_type": "code",
   "execution_count": 3,
   "metadata": {},
   "outputs": [
    {
     "ename": "NameError",
     "evalue": "name 'RandomizedSearchCV' is not defined",
     "output_type": "error",
     "traceback": [
      "\u001b[1;31m---------------------------------------------------------------------------\u001b[0m",
      "\u001b[1;31mNameError\u001b[0m                                 Traceback (most recent call last)",
      "\u001b[1;32m~\\AppData\\Local\\Temp/ipykernel_4712/4027079916.py\u001b[0m in \u001b[0;36m<module>\u001b[1;34m\u001b[0m\n\u001b[0;32m      1\u001b[0m \u001b[0mrandom_grid\u001b[0m \u001b[1;33m=\u001b[0m \u001b[1;33m{\u001b[0m\u001b[1;34m'n_estimators'\u001b[0m\u001b[1;33m:\u001b[0m \u001b[1;33m[\u001b[0m\u001b[1;36m50\u001b[0m\u001b[1;33m,\u001b[0m \u001b[1;36m100\u001b[0m\u001b[1;33m,\u001b[0m \u001b[1;36m200\u001b[0m\u001b[1;33m,\u001b[0m \u001b[1;36m500\u001b[0m\u001b[1;33m,\u001b[0m \u001b[1;36m700\u001b[0m\u001b[1;33m,\u001b[0m \u001b[1;36m1000\u001b[0m\u001b[1;33m]\u001b[0m\u001b[1;33m,\u001b[0m \u001b[1;34m'max_depth'\u001b[0m\u001b[1;33m:\u001b[0m \u001b[1;33m[\u001b[0m\u001b[1;36m5\u001b[0m\u001b[1;33m,\u001b[0m \u001b[1;36m10\u001b[0m\u001b[1;33m,\u001b[0m \u001b[1;36m15\u001b[0m\u001b[1;33m,\u001b[0m \u001b[1;32mNone\u001b[0m\u001b[1;33m]\u001b[0m\u001b[1;33m,\u001b[0m \u001b[1;34m'max_features'\u001b[0m\u001b[1;33m:\u001b[0m \u001b[1;33m[\u001b[0m\u001b[1;34m'auto'\u001b[0m\u001b[1;33m,\u001b[0m\u001b[1;34m'log2'\u001b[0m\u001b[1;33m]\u001b[0m\u001b[1;33m,\u001b[0m \u001b[1;34m'min_samples_leaf'\u001b[0m\u001b[1;33m:\u001b[0m \u001b[1;33m[\u001b[0m\u001b[1;36m1\u001b[0m\u001b[1;33m,\u001b[0m \u001b[1;36m2\u001b[0m\u001b[1;33m,\u001b[0m \u001b[1;36m3\u001b[0m\u001b[1;33m]\u001b[0m\u001b[1;33m,\u001b[0m \u001b[1;34m'min_samples_split'\u001b[0m\u001b[1;33m:\u001b[0m \u001b[1;33m[\u001b[0m\u001b[1;36m2\u001b[0m\u001b[1;33m,\u001b[0m \u001b[1;36m4\u001b[0m\u001b[1;33m,\u001b[0m \u001b[1;36m6\u001b[0m\u001b[1;33m,\u001b[0m \u001b[1;36m8\u001b[0m\u001b[1;33m]\u001b[0m\u001b[1;33m,\u001b[0m \u001b[1;34m'bootstrap'\u001b[0m\u001b[1;33m:\u001b[0m \u001b[1;33m[\u001b[0m\u001b[1;32mTrue\u001b[0m\u001b[1;33m,\u001b[0m \u001b[1;32mFalse\u001b[0m\u001b[1;33m]\u001b[0m\u001b[1;33m}\u001b[0m\u001b[1;33m\u001b[0m\u001b[1;33m\u001b[0m\u001b[0m\n\u001b[0;32m      2\u001b[0m \u001b[1;33m\u001b[0m\u001b[0m\n\u001b[1;32m----> 3\u001b[1;33m \u001b[0mrandom_search\u001b[0m \u001b[1;33m=\u001b[0m \u001b[0mRandomizedSearchCV\u001b[0m\u001b[1;33m(\u001b[0m\u001b[0mestimator\u001b[0m \u001b[1;33m=\u001b[0m \u001b[0mregr_le\u001b[0m\u001b[1;33m,\u001b[0m \u001b[0mparam_distributions\u001b[0m \u001b[1;33m=\u001b[0m \u001b[0mrandom_grid\u001b[0m\u001b[1;33m)\u001b[0m\u001b[1;33m\u001b[0m\u001b[1;33m\u001b[0m\u001b[0m\n\u001b[0m\u001b[0;32m      4\u001b[0m \u001b[0mrandom_search\u001b[0m\u001b[1;33m.\u001b[0m\u001b[0mfit\u001b[0m\u001b[1;33m(\u001b[0m\u001b[0mtrain_x_le\u001b[0m\u001b[1;33m,\u001b[0m \u001b[0mtrain_y_le\u001b[0m\u001b[1;33m)\u001b[0m\u001b[1;33m\u001b[0m\u001b[1;33m\u001b[0m\u001b[0m\n\u001b[0;32m      5\u001b[0m \u001b[0mprint\u001b[0m\u001b[1;33m(\u001b[0m\u001b[0mrandom_search\u001b[0m\u001b[1;33m.\u001b[0m\u001b[0mbest_params_\u001b[0m\u001b[1;33m)\u001b[0m\u001b[1;33m\u001b[0m\u001b[1;33m\u001b[0m\u001b[0m\n",
      "\u001b[1;31mNameError\u001b[0m: name 'RandomizedSearchCV' is not defined"
     ]
    }
   ],
   "source": [
    "random_grid = {'n_estimators': [50, 100, 200, 500, 700, 1000], 'max_depth': [5, 10, 15, None], 'max_features': ['auto','log2'], 'min_samples_leaf': [1, 2, 3], 'min_samples_split': [2, 4, 6, 8], 'bootstrap': [True, False]}\n",
    "\n",
    "random_search = RandomizedSearchCV(estimator = regr_le, param_distributions = random_grid)\n",
    "random_search.fit(train_x_le, train_y_le)\n",
    "print(random_search.best_params_)"
   ]
  },
  {
   "cell_type": "code",
   "execution_count": null,
   "metadata": {},
   "outputs": [],
   "source": [
    "y_pred = 0\n",
    "train_pred = 0\n",
    "\n",
    "for i in range(20):\n",
    "    # Creating forests with label and the best parameters\n",
    "    regr_le_random = RandomForestRegressor(max_depth= None, max_features= 'auto', min_samples_leaf= 1, n_estimators= 500)\n",
    "    regr_le_random.fit(train_x_le, train_y_le)\n",
    "    # Getting prediction and calculating accuracy\n",
    "    y_prediction_forest_le_random = regr_le_random.predict(test_x_le)\n",
    "    train_prediction_forest_le_random = regr_le_random.predict(train_x_le)\n",
    "    \n",
    "    y_pred += dev(test_y_le, y_prediction_forest_le_random) / 20\n",
    "    train_pred += dev(train_y_le, train_prediction_forest_le_random) / 20\n",
    "\n",
    "# Forest le grid\n",
    "print('Forest le random')\n",
    "print('test', y_pred)\n",
    "print('train', train_pred, '\\n')"
   ]
  }
 ],
 "metadata": {
  "interpreter": {
   "hash": "b3ba2566441a7c06988d0923437866b63cedc61552a5af99d1f4fb67d367b25f"
  },
  "kernelspec": {
   "display_name": "Python 3 (ipykernel)",
   "language": "python",
   "name": "python3"
  },
  "language_info": {
   "codemirror_mode": {
    "name": "ipython",
    "version": 3
   },
   "file_extension": ".py",
   "mimetype": "text/x-python",
   "name": "python",
   "nbconvert_exporter": "python",
   "pygments_lexer": "ipython3",
   "version": "3.7.11"
  }
 },
 "nbformat": 4,
 "nbformat_minor": 2
}
