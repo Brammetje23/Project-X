{
 "cells": [
  {
   "cell_type": "markdown",
   "metadata": {},
   "source": [
    "Import the data and get a training/testing set."
   ]
  },
  {
   "cell_type": "code",
   "execution_count": 1,
   "metadata": {},
   "outputs": [],
   "source": [
    "from data_processing import import_and_clean_train, one_hot_encoding, label_encoding\n",
    "\n",
    "\n",
    "train_x_le, test_x_le, train_y_le, test_y_le, label_dict = import_and_clean_train('train', label_encoding)\n",
    "train_x_ohe, test_x_ohe, train_y_ohe, test_y_ohe = import_and_clean_train('train', one_hot_encoding)\n"
   ]
  },
  {
   "cell_type": "markdown",
   "metadata": {},
   "source": [
    "Import all the regresssion types. And make models"
   ]
  },
  {
   "cell_type": "code",
   "execution_count": 5,
   "metadata": {},
   "outputs": [
    {
     "data": {
      "text/plain": [
       "ElasticNet(max_iter=100000, tol=0.1)"
      ]
     },
     "execution_count": 5,
     "metadata": {},
     "output_type": "execute_result"
    }
   ],
   "source": [
    "from sklearn import linear_model\n",
    "\n",
    "# Linear regression\n",
    "lin_reg = linear_model.LinearRegression()\n",
    "lin_reg.fit(train_x_ohe, train_y_ohe)\n",
    "\n",
    "# Lasso model\n",
    "lasso_reg = linear_model.Lasso(max_iter=100000, tol=0.00001)\n",
    "lasso_reg.fit(train_x_ohe, train_y_ohe)\n",
    "\n",
    "# LARS Lasso model\n",
    "lars_lasso_reg = linear_model.LassoLars(max_iter=75)\n",
    "lars_lasso_reg.fit(train_x_ohe, train_y_ohe)\n",
    "\n",
    "# Multi task lasso\n",
    "elastic_reg = linear_model.ElasticNet(max_iter=100000, tol=0.1)\n",
    "elastic_reg.fit(train_x_ohe, train_y_ohe)"
   ]
  },
  {
   "cell_type": "markdown",
   "metadata": {},
   "source": [
    "Making predictions with the models."
   ]
  },
  {
   "cell_type": "code",
   "execution_count": 3,
   "metadata": {},
   "outputs": [],
   "source": [
    "# Calculate average deviation\n",
    "def dev(y, y_hat):\n",
    "    tot = 0\n",
    "    for i in range(len(y)):\n",
    "        tot += abs(y[i]-y_hat[i])\n",
    "    return tot / len(y)"
   ]
  },
  {
   "cell_type": "code",
   "execution_count": 4,
   "metadata": {},
   "outputs": [
    {
     "name": "stdout",
     "output_type": "stream",
     "text": [
      "Avg deviation of linear regression on test set: 17491.411244494626\n",
      "Avg deviation of linear regression on train set: 13296.755130942674\n",
      "\n",
      "Avg deviation of lasso regression on test set: 17098.811677357502\n",
      "Avg deviation of lasso regression on train set: 13311.546351519337\n",
      "\n",
      "Avg deviation of LARS lasso regression on test set: 15319.259424274082\n",
      "Avg deviation of LARS lasso regression on train set: 14822.490330585542\n",
      "\n",
      "Avg deviation of elastic regression on test set: 17281.302165761328\n",
      "Avg deviation of elastic regression on train set: 19707.783302901313\n"
     ]
    }
   ],
   "source": [
    "# Linear regression prediction\n",
    "lin_reg_test = lin_reg.predict(test_x_ohe)\n",
    "lin_reg_train = lin_reg.predict(train_x_ohe)\n",
    "\n",
    "print(f'Avg deviation of linear regression on test set: {dev(test_y_ohe, lin_reg_test)}')\n",
    "print(f'Avg deviation of linear regression on train set: {dev(train_y_ohe, lin_reg_train)}\\n')\n",
    "\n",
    "# Lasso regression prediction\n",
    "lasso_reg_test = lasso_reg.predict(test_x_ohe)\n",
    "lasso_reg_train = lasso_reg.predict(train_x_ohe)\n",
    "\n",
    "print(f'Avg deviation of lasso regression on test set: {dev(test_y_ohe, lasso_reg_test)}')\n",
    "print(f'Avg deviation of lasso regression on train set: {dev(train_y_ohe, lasso_reg_train)}\\n')\n",
    "\n",
    "# Lars lasso regression prediction\n",
    "lars_lasso_reg_test = lars_lasso_reg.predict(test_x_ohe)\n",
    "lars_lasso_reg_train = lars_lasso_reg.predict(train_x_ohe)\n",
    "\n",
    "print(f'Avg deviation of LARS lasso regression on test set: {dev(test_y_ohe, lars_lasso_reg_test)}')\n",
    "print(f'Avg deviation of LARS lasso regression on train set: {dev(train_y_ohe, lars_lasso_reg_train)}\\n')\n",
    "\n",
    "# Elastic regression prediction\n",
    "elastic_reg_test = elastic_reg.predict(test_x_ohe)\n",
    "elastic_reg_train = elastic_reg.predict(train_x_ohe)\n",
    "\n",
    "print(f'Avg deviation of elastic regression on test set: {dev(test_y_ohe, elastic_reg_test)}')\n",
    "print(f'Avg deviation of elastic regression on train set: {dev(train_y_ohe, elastic_reg_train)}')\n",
    "\n"
   ]
  }
 ],
 "metadata": {
  "interpreter": {
   "hash": "b3ba2566441a7c06988d0923437866b63cedc61552a5af99d1f4fb67d367b25f"
  },
  "kernelspec": {
   "display_name": "Python 3.9.7 64-bit ('base': conda)",
   "language": "python",
   "name": "python3"
  },
  "language_info": {
   "codemirror_mode": {
    "name": "ipython",
    "version": 3
   },
   "file_extension": ".py",
   "mimetype": "text/x-python",
   "name": "python",
   "nbconvert_exporter": "python",
   "pygments_lexer": "ipython3",
   "version": "3.9.7"
  },
  "orig_nbformat": 4
 },
 "nbformat": 4,
 "nbformat_minor": 2
}
