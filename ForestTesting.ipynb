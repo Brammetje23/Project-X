{
 "cells": [
  {
   "cell_type": "code",
   "execution_count": 1,
   "metadata": {},
   "outputs": [
    {
     "name": "stdout",
     "output_type": "stream",
     "text": [
      "SalePrice        1.000000\n",
      "OverallQual      0.790982\n",
      "GrLivArea        0.708624\n",
      "GarageCars       0.640409\n",
      "GarageArea       0.623431\n",
      "TotalBsmtSF      0.613581\n",
      "1stFlrSF         0.605852\n",
      "FullBath         0.560664\n",
      "TotRmsAbvGrd     0.533723\n",
      "YearBuilt        0.522897\n",
      "YearRemodAdd     0.507101\n",
      "MasVnrArea       0.472614\n",
      "Fireplaces       0.466929\n",
      "BsmtFinSF1       0.386420\n",
      "LotFrontage      0.349876\n",
      "WoodDeckSF       0.324413\n",
      "2ndFlrSF         0.319334\n",
      "OpenPorchSF      0.315856\n",
      "HalfBath         0.284108\n",
      "LotArea          0.263843\n",
      "GarageYrBlt      0.261366\n",
      "BsmtFullBath     0.227122\n",
      "BsmtUnfSF        0.214479\n",
      "BedroomAbvGr     0.168213\n",
      "KitchenAbvGr     0.135907\n",
      "EnclosedPorch    0.128578\n",
      "ScreenPorch      0.111447\n",
      "PoolArea         0.092404\n",
      "MSSubClass       0.084284\n",
      "OverallCond      0.077856\n",
      "MoSold           0.046432\n",
      "3SsnPorch        0.044584\n",
      "YrSold           0.028923\n",
      "LowQualFinSF     0.025606\n",
      "MiscVal          0.021190\n",
      "BsmtHalfBath     0.016844\n",
      "BsmtFinSF2       0.011378\n",
      "Name: SalePrice, dtype: float64\n",
      "SalePrice        1.000000\n",
      "OverallQual      0.790982\n",
      "GrLivArea        0.708624\n",
      "GarageCars       0.640409\n",
      "GarageArea       0.623431\n",
      "TotalBsmtSF      0.613581\n",
      "1stFlrSF         0.605852\n",
      "FullBath         0.560664\n",
      "TotRmsAbvGrd     0.533723\n",
      "YearBuilt        0.522897\n",
      "YearRemodAdd     0.507101\n",
      "MasVnrArea       0.472614\n",
      "Fireplaces       0.466929\n",
      "BsmtFinSF1       0.386420\n",
      "LotFrontage      0.349876\n",
      "WoodDeckSF       0.324413\n",
      "2ndFlrSF         0.319334\n",
      "OpenPorchSF      0.315856\n",
      "HalfBath         0.284108\n",
      "LotArea          0.263843\n",
      "GarageYrBlt      0.261366\n",
      "BsmtFullBath     0.227122\n",
      "BsmtUnfSF        0.214479\n",
      "BedroomAbvGr     0.168213\n",
      "KitchenAbvGr     0.135907\n",
      "EnclosedPorch    0.128578\n",
      "ScreenPorch      0.111447\n",
      "PoolArea         0.092404\n",
      "MSSubClass       0.084284\n",
      "OverallCond      0.077856\n",
      "MoSold           0.046432\n",
      "3SsnPorch        0.044584\n",
      "YrSold           0.028923\n",
      "LowQualFinSF     0.025606\n",
      "MiscVal          0.021190\n",
      "BsmtHalfBath     0.016844\n",
      "BsmtFinSF2       0.011378\n",
      "Name: SalePrice, dtype: float64\n"
     ]
    }
   ],
   "source": [
    "from data_processing import import_and_clean_train, one_hot_encoding, label_encoding\n",
    "\n",
    "\n",
    "train_x_le, test_x_le, train_y_le, test_y_le, label_dict = import_and_clean_train('train', label_encoding)\n",
    "train_x_ohe, test_x_ohe, train_y_ohe, test_y_ohe = import_and_clean_train('train', one_hot_encoding)\n",
    "\n"
   ]
  },
  {
   "cell_type": "code",
   "execution_count": 2,
   "metadata": {},
   "outputs": [
    {
     "name": "stdout",
     "output_type": "stream",
     "text": [
      "Forest ohe\n",
      "test 15430.947694063925 0.01709863395393699\n",
      "train 6817.49295499021 0.0039563471844107296 \n",
      "\n",
      "Forest le\n",
      "test 15789.5462785388 0.018277932700984177\n",
      "train 6697.2240998043035 0.0037839907534065733\n"
     ]
    }
   ],
   "source": [
    "# Imports\n",
    "import pandas as pd\n",
    "from pandas.api.types import is_string_dtype\n",
    "from pandas.api.types import is_numeric_dtype\n",
    "\n",
    "import numpy as np\n",
    "import matplotlib.pyplot as plt\n",
    "from matplotlib.pyplot import figure\n",
    "\n",
    "from sklearn.linear_model import LinearRegression\n",
    "from sklearn.ensemble import RandomForestRegressor, RandomForestClassifier\n",
    "from sklearn import metrics\n",
    "from sklearn import preprocessing\n",
    "from sklearn.model_selection import train_test_split, GridSearchCV, RandomizedSearchCV\n",
    "from sklearn.metrics import r2_score, mean_squared_error, mean_squared_log_error\n",
    "import seaborn as sns\n",
    "\n",
    "\n",
    "\n",
    "# Creating forests with label\n",
    "regr_le = RandomForestRegressor(n_jobs=-1)\n",
    "regr_le.fit(train_x_le, train_y_le)\n",
    "# Getting prediction and calculating accuracy\n",
    "y_prediction_forest_le = regr_le.predict(test_x_le)\n",
    "train_prediction_forest_le = regr_le.predict(train_x_le)\n",
    "\n",
    "# Creating forests with one_hot\n",
    "regr_ohe = RandomForestRegressor(n_jobs=-1)\n",
    "regr_ohe.fit(train_x_ohe, train_y_ohe)\n",
    "# Getting prediction and calculating accuracy\n",
    "y_prediction_forest_ohe = regr_ohe.predict(test_x_ohe)\n",
    "train_prediction_forest_ohe = regr_ohe.predict(train_x_ohe)\n",
    "\n",
    "\n",
    "\n",
    "\n",
    "# Calculate average deviation\n",
    "def dev(y, y_hat):\n",
    "    tot = 0\n",
    "    for i in range(len(y)):\n",
    "        tot += abs(y[i]-y_hat[i])\n",
    "    return tot / len(y)\n",
    "\n",
    "\n",
    "# Forest ohe\n",
    "print('Forest ohe')\n",
    "print('test', dev(test_y_le, y_prediction_forest_ohe), mean_squared_log_error(test_y_le, y_prediction_forest_ohe))\n",
    "print('train', dev(train_y_le, train_prediction_forest_ohe), mean_squared_log_error(train_y_le, train_prediction_forest_ohe), '\\n')\n",
    "\n",
    "# Forest le\n",
    "print('Forest le')\n",
    "print('test', dev(test_y_le, y_prediction_forest_le), mean_squared_log_error(test_y_le, y_prediction_forest_le))\n",
    "print('train', dev(train_y_le, train_prediction_forest_le), mean_squared_log_error(train_y_le, train_prediction_forest_le))"
   ]
  },
  {
   "cell_type": "code",
   "execution_count": 3,
   "metadata": {},
   "outputs": [],
   "source": [
    "#random_grid = {'n_estimators': [700, 900, 1100, 1300], 'max_depth': [15, 20, 25, 30, 35], 'max_features': [0.2, 0.3, 0.4, 0.5, 0.6, 'sqrt', 'log2'], 'min_samples_leaf': [1, 2, 3], 'min_samples_split': [1, 2, 3, 4], 'bootstrap': [False]}\n",
    "\n",
    "#random_search = RandomizedSearchCV(estimator = regr_le, param_distributions = random_grid, n_jobs=-1, cv=20)\n",
    "#random_search.fit(train_x_le, train_y_le)\n",
    "#print(random_search.best_params_)"
   ]
  },
  {
   "cell_type": "code",
   "execution_count": 4,
   "metadata": {},
   "outputs": [],
   "source": [
    "#search_grid = {'n_estimators': [1100, 1300], 'max_depth': [25, 30, 35], 'max_features': [0.3, 0.4, 0.5], 'min_samples_leaf': [1, 2, 3], 'min_samples_split': [1, 2, 3], 'bootstrap': [False]}\n",
    "#search_grid2 = {'n_estimators': [1100], 'max_depth': [35], 'max_features': [0.3], 'min_samples_leaf': [1], 'min_samples_split': [2], 'bootstrap': [False], 'min_impurity_decrease':[0, 0.1, 0.2, 0.3]}\n",
    "\n",
    "#grid_search = GridSearchCV(estimator= regr_le, param_grid=search_grid2, n_jobs=-1)\n",
    "#grid_search.fit(train_x_le, train_y_le)\n",
    "#print(grid_search.best_params_)"
   ]
  },
  {
   "cell_type": "code",
   "execution_count": 5,
   "metadata": {},
   "outputs": [
    {
     "name": "stdout",
     "output_type": "stream",
     "text": [
      "Forest le random\n",
      "test 14244.881873702785 0.015558173641990048\n",
      "train 0.0036915139654886396 7.056335663037238e-13 \n",
      "\n"
     ]
    }
   ],
   "source": [
    "n = 20\n",
    "\n",
    "y_pred = 0\n",
    "train_pred = 0\n",
    "y_pred_log = 0\n",
    "train_pred_log = 0\n",
    "\n",
    "\n",
    "for i in range(n):\n",
    "    # Creating forests with label and the best parameters\n",
    "    regr_le_random = RandomForestRegressor(max_depth= 35, max_features= 0.3, min_samples_leaf= 1, n_estimators= 1100, min_samples_split=2, bootstrap=False, n_jobs=-1)\n",
    "    regr_le_random.fit(train_x_le, train_y_le)\n",
    "    # Getting prediction and calculating accuracy\n",
    "    y_prediction_forest_le_random = regr_le_random.predict(test_x_le)\n",
    "    train_prediction_forest_le_random = regr_le_random.predict(train_x_le)\n",
    "    \n",
    "    y_pred += dev(test_y_ohe, y_prediction_forest_le_random) \n",
    "    train_pred += dev(train_y_ohe, train_prediction_forest_le_random) \n",
    "\n",
    "    y_pred_log += mean_squared_log_error(test_y_ohe, y_prediction_forest_le_random) \n",
    "    train_pred_log += mean_squared_log_error(train_y_ohe, train_prediction_forest_le_random) \n",
    "\n",
    "# Forest le grid\n",
    "print('Forest le random')\n",
    "print('test', y_pred/n, y_pred_log/n)\n",
    "print('train', train_pred/n, train_pred_log/n, '\\n')"
   ]
  },
  {
   "cell_type": "code",
   "execution_count": 6,
   "metadata": {},
   "outputs": [
    {
     "name": "stdout",
     "output_type": "stream",
     "text": [
      "Forest ohe random\n",
      "test 14199.176723411938 0.015357769108909649\n",
      "train 21.23852048854322 8.431501682187225e-08 \n",
      "\n"
     ]
    }
   ],
   "source": [
    "y_pred = 0\n",
    "train_pred = 0\n",
    "y_pred_log = 0\n",
    "train_pred_log = 0\n",
    "\n",
    "\n",
    "for i in range(n):\n",
    "    # Creating forests with label and the best parameters\n",
    "    regr_le_random = RandomForestRegressor(max_depth= 20, max_features= 0.3, min_samples_leaf= 1, n_estimators= 1100, min_samples_split=2, bootstrap=False, n_jobs=-1)\n",
    "    regr_le_random.fit(train_x_ohe, train_y_ohe)\n",
    "    # Getting prediction and calculating accuracy\n",
    "    y_prediction_forest_le_random = regr_le_random.predict(test_x_ohe)\n",
    "    train_prediction_forest_le_random = regr_le_random.predict(train_x_ohe)\n",
    "    \n",
    "    y_pred += dev(test_y_ohe, y_prediction_forest_le_random) \n",
    "    train_pred += dev(train_y_ohe, train_prediction_forest_le_random) \n",
    "\n",
    "    y_pred_log += mean_squared_log_error(test_y_ohe, y_prediction_forest_le_random) \n",
    "    train_pred_log += mean_squared_log_error(train_y_ohe, train_prediction_forest_le_random) \n",
    "\n",
    "# Forest le grid\n",
    "print('Forest ohe random')\n",
    "print('test', y_pred/n, y_pred_log/n)\n",
    "print('train', train_pred/n, train_pred_log/n, '\\n')"
   ]
  }
 ],
 "metadata": {
  "interpreter": {
   "hash": "b3ba2566441a7c06988d0923437866b63cedc61552a5af99d1f4fb67d367b25f"
  },
  "kernelspec": {
   "display_name": "Python 3 (ipykernel)",
   "language": "python",
   "name": "python3"
  },
  "language_info": {
   "codemirror_mode": {
    "name": "ipython",
    "version": 3
   },
   "file_extension": ".py",
   "mimetype": "text/x-python",
   "name": "python",
   "nbconvert_exporter": "python",
   "pygments_lexer": "ipython3",
   "version": "3.9.7"
  }
 },
 "nbformat": 4,
 "nbformat_minor": 2
}
