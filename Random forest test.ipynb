{
 "cells": [
  {
   "cell_type": "markdown",
   "id": "5e12d531",
   "metadata": {},
   "source": [
    "Matthijs Vogd\n",
    "\n",
    "Exploratory version of random forest model for predicting home prices."
   ]
  },
  {
   "cell_type": "code",
   "execution_count": 2,
   "id": "e3336964",
   "metadata": {
    "scrolled": true
   },
   "outputs": [
    {
     "name": "stdout",
     "output_type": "stream",
     "text": [
      "Median absolute accuracy is: 20989.79360972278\n"
     ]
    }
   ],
   "source": [
    "from sklearn.ensemble import RandomForestRegressor\n",
    "from sklearn import metrics\n",
    "import pandas as pd\n",
    "\n",
    "train_df = pd.read_csv('Data/train.csv')\n",
    "\n",
    "# Selection of features\n",
    "X = train_df.loc[:, ['MSSubClass', 'LotArea', 'OverallQual']]\n",
    "\n",
    "# Train labels\n",
    "y = train_df.loc[:, 'SalePrice']\n",
    "\n",
    "# Creating forests\n",
    "regr = RandomForestRegressor(max_depth=3, random_state=3)\n",
    "regr.fit(X, y)\n",
    "\n",
    "# Getting prediction and calculating accuracy\n",
    "prediction = regr.predict(X)\n",
    "train_acc = metrics.median_absolute_error(y, prediction)\n",
    "\n",
    "print(f'Median absolute accuracy is: {train_acc}')"
   ]
  }
 ],
 "metadata": {
  "kernelspec": {
   "display_name": "Python 3 (ipykernel)",
   "language": "python",
   "name": "python3"
  },
  "language_info": {
   "codemirror_mode": {
    "name": "ipython",
    "version": 3
   },
   "file_extension": ".py",
   "mimetype": "text/x-python",
   "name": "python",
   "nbconvert_exporter": "python",
   "pygments_lexer": "ipython3",
   "version": "3.7.11"
  }
 },
 "nbformat": 4,
 "nbformat_minor": 5
}
